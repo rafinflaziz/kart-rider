{
 "cells": [
  {
   "cell_type": "markdown",
   "id": "213f899b",
   "metadata": {},
   "source": [
    "## Text to Dataframe"
   ]
  },
  {
   "cell_type": "code",
   "execution_count": 144,
   "id": "9e8ffdc2",
   "metadata": {
    "ExecuteTime": {
     "end_time": "2022-05-25T10:43:35.051811Z",
     "start_time": "2022-05-25T10:43:33.881216Z"
    }
   },
   "outputs": [],
   "source": [
    "import numpy as np\n",
    "import pandas as pd\n",
    "import matplotlib.pyplot as plt\n",
    "import seaborn as sns"
   ]
  },
  {
   "cell_type": "code",
   "execution_count": 89,
   "id": "9763b373",
   "metadata": {
    "ExecuteTime": {
     "end_time": "2022-05-25T10:15:33.938198Z",
     "start_time": "2022-05-25T10:15:33.890189Z"
    }
   },
   "outputs": [
    {
     "data": {
      "text/html": [
       "<div>\n",
       "<style scoped>\n",
       "    .dataframe tbody tr th:only-of-type {\n",
       "        vertical-align: middle;\n",
       "    }\n",
       "\n",
       "    .dataframe tbody tr th {\n",
       "        vertical-align: top;\n",
       "    }\n",
       "\n",
       "    .dataframe thead th {\n",
       "        text-align: right;\n",
       "    }\n",
       "</style>\n",
       "<table border=\"1\" class=\"dataframe\">\n",
       "  <thead>\n",
       "    <tr style=\"text-align: right;\">\n",
       "      <th></th>\n",
       "      <th>first</th>\n",
       "      <th>second</th>\n",
       "      <th>third</th>\n",
       "      <th>fourth</th>\n",
       "      <th>fifth</th>\n",
       "    </tr>\n",
       "  </thead>\n",
       "  <tbody>\n",
       "    <tr>\n",
       "      <th>0</th>\n",
       "      <td>1</td>\n",
       "      <td>2</td>\n",
       "      <td>3</td>\n",
       "      <td>6</td>\n",
       "      <td>None</td>\n",
       "    </tr>\n",
       "    <tr>\n",
       "      <th>1</th>\n",
       "      <td>1</td>\n",
       "      <td>4</td>\n",
       "      <td>3</td>\n",
       "      <td>i</td>\n",
       "      <td>None</td>\n",
       "    </tr>\n",
       "    <tr>\n",
       "      <th>2</th>\n",
       "      <td>d</td>\n",
       "      <td>2</td>\n",
       "      <td>4</td>\n",
       "      <td>ro</td>\n",
       "      <td>None</td>\n",
       "    </tr>\n",
       "    <tr>\n",
       "      <th>3</th>\n",
       "      <td>L</td>\n",
       "      <td>3</td>\n",
       "      <td>4</td>\n",
       "      <td>None</td>\n",
       "      <td>None</td>\n",
       "    </tr>\n",
       "    <tr>\n",
       "      <th>4</th>\n",
       "      <td>t</td>\n",
       "      <td>3</td>\n",
       "      <td>4</td>\n",
       "      <td>6</td>\n",
       "      <td>None</td>\n",
       "    </tr>\n",
       "  </tbody>\n",
       "</table>\n",
       "</div>"
      ],
      "text/plain": [
       "  first second third fourth fifth\n",
       "0     1      2     3      6  None\n",
       "1     1      4     3      i  None\n",
       "2     d      2     4     ro  None\n",
       "3     L      3     4   None  None\n",
       "4     t      3     4      6  None"
      ]
     },
     "execution_count": 89,
     "metadata": {},
     "output_type": "execute_result"
    }
   ],
   "source": [
    "with open('result.txt') as f:\n",
    "    lines = f.read()\n",
    "a = list(eval(lines))\n",
    "col_head = ['first', 'second', 'third', 'fourth', 'fifth']\n",
    "data = pd.DataFrame.from_records(a, columns=col_head)\n",
    "data[:5]"
   ]
  },
  {
   "cell_type": "markdown",
   "id": "f88a2619",
   "metadata": {},
   "source": [
    "## Data Cleaning"
   ]
  },
  {
   "cell_type": "code",
   "execution_count": 90,
   "id": "d9d53f9e",
   "metadata": {
    "ExecuteTime": {
     "end_time": "2022-05-25T10:15:34.487849Z",
     "start_time": "2022-05-25T10:15:34.475847Z"
    }
   },
   "outputs": [
    {
     "data": {
      "text/plain": [
       "[Index(['1', 'i', 'I', '2', 'd', '3', '4', 't'], dtype='object'),\n",
       " Index(['2', '4', '3', '5', 'P4', 'v4', '6', '74'], dtype='object'),\n",
       " Index(['3', '4', '5', '6', '7', '8', 'fo'], dtype='object'),\n",
       " Index(['8', '7', '4', '6', '5', 'fo', 'i'], dtype='object'),\n",
       " Index([], dtype='object')]"
      ]
     },
     "execution_count": 90,
     "metadata": {},
     "output_type": "execute_result"
    }
   ],
   "source": [
    "# filter column by ignoring value that counts less than 30\n",
    "filtered_col = []\n",
    "for col in col_head:\n",
    "    filtered_col.append(\n",
    "        (data[col].value_counts()[data[col].value_counts() > 30]).index)\n",
    "filtered_col"
   ]
  },
  {
   "cell_type": "code",
   "execution_count": 91,
   "id": "6577a160",
   "metadata": {
    "ExecuteTime": {
     "end_time": "2022-05-25T10:15:34.924858Z",
     "start_time": "2022-05-25T10:15:34.911202Z"
    }
   },
   "outputs": [
    {
     "data": {
      "text/html": [
       "<div>\n",
       "<style scoped>\n",
       "    .dataframe tbody tr th:only-of-type {\n",
       "        vertical-align: middle;\n",
       "    }\n",
       "\n",
       "    .dataframe tbody tr th {\n",
       "        vertical-align: top;\n",
       "    }\n",
       "\n",
       "    .dataframe thead th {\n",
       "        text-align: right;\n",
       "    }\n",
       "</style>\n",
       "<table border=\"1\" class=\"dataframe\">\n",
       "  <thead>\n",
       "    <tr style=\"text-align: right;\">\n",
       "      <th></th>\n",
       "      <th>first</th>\n",
       "      <th>second</th>\n",
       "      <th>third</th>\n",
       "      <th>fourth</th>\n",
       "    </tr>\n",
       "  </thead>\n",
       "  <tbody>\n",
       "    <tr>\n",
       "      <th>0</th>\n",
       "      <td>1</td>\n",
       "      <td>2</td>\n",
       "      <td>3</td>\n",
       "      <td>6</td>\n",
       "    </tr>\n",
       "    <tr>\n",
       "      <th>1</th>\n",
       "      <td>1</td>\n",
       "      <td>4</td>\n",
       "      <td>3</td>\n",
       "      <td>i</td>\n",
       "    </tr>\n",
       "    <tr>\n",
       "      <th>2</th>\n",
       "      <td>d</td>\n",
       "      <td>2</td>\n",
       "      <td>4</td>\n",
       "      <td>ro</td>\n",
       "    </tr>\n",
       "    <tr>\n",
       "      <th>3</th>\n",
       "      <td>L</td>\n",
       "      <td>3</td>\n",
       "      <td>4</td>\n",
       "      <td>None</td>\n",
       "    </tr>\n",
       "    <tr>\n",
       "      <th>4</th>\n",
       "      <td>t</td>\n",
       "      <td>3</td>\n",
       "      <td>4</td>\n",
       "      <td>6</td>\n",
       "    </tr>\n",
       "    <tr>\n",
       "      <th>...</th>\n",
       "      <td>...</td>\n",
       "      <td>...</td>\n",
       "      <td>...</td>\n",
       "      <td>...</td>\n",
       "    </tr>\n",
       "    <tr>\n",
       "      <th>3013</th>\n",
       "      <td></td>\n",
       "      <td>None</td>\n",
       "      <td>None</td>\n",
       "      <td>None</td>\n",
       "    </tr>\n",
       "    <tr>\n",
       "      <th>3014</th>\n",
       "      <td>1</td>\n",
       "      <td>3</td>\n",
       "      <td>4</td>\n",
       "      <td>7</td>\n",
       "    </tr>\n",
       "    <tr>\n",
       "      <th>3015</th>\n",
       "      <td>1</td>\n",
       "      <td>4</td>\n",
       "      <td>7</td>\n",
       "      <td>None</td>\n",
       "    </tr>\n",
       "    <tr>\n",
       "      <th>3016</th>\n",
       "      <td></td>\n",
       "      <td>None</td>\n",
       "      <td>None</td>\n",
       "      <td>None</td>\n",
       "    </tr>\n",
       "    <tr>\n",
       "      <th>3017</th>\n",
       "      <td>1</td>\n",
       "      <td>2</td>\n",
       "      <td>3</td>\n",
       "      <td>7</td>\n",
       "    </tr>\n",
       "  </tbody>\n",
       "</table>\n",
       "<p>3018 rows × 4 columns</p>\n",
       "</div>"
      ],
      "text/plain": [
       "     first second third fourth\n",
       "0        1      2     3      6\n",
       "1        1      4     3      i\n",
       "2        d      2     4     ro\n",
       "3        L      3     4   None\n",
       "4        t      3     4      6\n",
       "...    ...    ...   ...    ...\n",
       "3013         None  None   None\n",
       "3014     1      3     4      7\n",
       "3015     1      4     7   None\n",
       "3016         None  None   None\n",
       "3017     1      2     3      7\n",
       "\n",
       "[3018 rows x 4 columns]"
      ]
     },
     "execution_count": 91,
     "metadata": {},
     "output_type": "execute_result"
    }
   ],
   "source": [
    "# because fifth column mostly consists of None, we can drop the column\n",
    "data.drop('fifth', axis=1, inplace=True)\n",
    "col_head.pop()\n",
    "data"
   ]
  },
  {
   "cell_type": "code",
   "execution_count": 134,
   "id": "a764e8d3",
   "metadata": {
    "ExecuteTime": {
     "end_time": "2022-05-25T10:31:50.881078Z",
     "start_time": "2022-05-25T10:31:50.854543Z"
    }
   },
   "outputs": [
    {
     "data": {
      "text/html": [
       "<div>\n",
       "<style scoped>\n",
       "    .dataframe tbody tr th:only-of-type {\n",
       "        vertical-align: middle;\n",
       "    }\n",
       "\n",
       "    .dataframe tbody tr th {\n",
       "        vertical-align: top;\n",
       "    }\n",
       "\n",
       "    .dataframe thead th {\n",
       "        text-align: right;\n",
       "    }\n",
       "</style>\n",
       "<table border=\"1\" class=\"dataframe\">\n",
       "  <thead>\n",
       "    <tr style=\"text-align: right;\">\n",
       "      <th></th>\n",
       "      <th>first</th>\n",
       "      <th>second</th>\n",
       "      <th>third</th>\n",
       "      <th>fourth</th>\n",
       "    </tr>\n",
       "  </thead>\n",
       "  <tbody>\n",
       "    <tr>\n",
       "      <th>0</th>\n",
       "      <td>1</td>\n",
       "      <td>2</td>\n",
       "      <td>3</td>\n",
       "      <td>6</td>\n",
       "    </tr>\n",
       "    <tr>\n",
       "      <th>1</th>\n",
       "      <td>1</td>\n",
       "      <td>4</td>\n",
       "      <td>3</td>\n",
       "      <td>i</td>\n",
       "    </tr>\n",
       "    <tr>\n",
       "      <th>4</th>\n",
       "      <td>t</td>\n",
       "      <td>3</td>\n",
       "      <td>4</td>\n",
       "      <td>6</td>\n",
       "    </tr>\n",
       "    <tr>\n",
       "      <th>5</th>\n",
       "      <td>I</td>\n",
       "      <td>3</td>\n",
       "      <td>4</td>\n",
       "      <td>6</td>\n",
       "    </tr>\n",
       "    <tr>\n",
       "      <th>8</th>\n",
       "      <td>1</td>\n",
       "      <td>3</td>\n",
       "      <td>6</td>\n",
       "      <td>7</td>\n",
       "    </tr>\n",
       "    <tr>\n",
       "      <th>...</th>\n",
       "      <td>...</td>\n",
       "      <td>...</td>\n",
       "      <td>...</td>\n",
       "      <td>...</td>\n",
       "    </tr>\n",
       "    <tr>\n",
       "      <th>3010</th>\n",
       "      <td>i</td>\n",
       "      <td>4</td>\n",
       "      <td>5</td>\n",
       "      <td>8</td>\n",
       "    </tr>\n",
       "    <tr>\n",
       "      <th>3011</th>\n",
       "      <td>4</td>\n",
       "      <td>3</td>\n",
       "      <td>5</td>\n",
       "      <td>8</td>\n",
       "    </tr>\n",
       "    <tr>\n",
       "      <th>3012</th>\n",
       "      <td>1</td>\n",
       "      <td>3</td>\n",
       "      <td>5</td>\n",
       "      <td>8</td>\n",
       "    </tr>\n",
       "    <tr>\n",
       "      <th>3014</th>\n",
       "      <td>1</td>\n",
       "      <td>3</td>\n",
       "      <td>4</td>\n",
       "      <td>7</td>\n",
       "    </tr>\n",
       "    <tr>\n",
       "      <th>3017</th>\n",
       "      <td>1</td>\n",
       "      <td>2</td>\n",
       "      <td>3</td>\n",
       "      <td>7</td>\n",
       "    </tr>\n",
       "  </tbody>\n",
       "</table>\n",
       "<p>2033 rows × 4 columns</p>\n",
       "</div>"
      ],
      "text/plain": [
       "     first second third fourth\n",
       "0        1      2     3      6\n",
       "1        1      4     3      i\n",
       "4        t      3     4      6\n",
       "5        I      3     4      6\n",
       "8        1      3     6      7\n",
       "...    ...    ...   ...    ...\n",
       "3010     i      4     5      8\n",
       "3011     4      3     5      8\n",
       "3012     1      3     5      8\n",
       "3014     1      3     4      7\n",
       "3017     1      2     3      7\n",
       "\n",
       "[2033 rows x 4 columns]"
      ]
     },
     "execution_count": 134,
     "metadata": {},
     "output_type": "execute_result"
    }
   ],
   "source": [
    "# continue ignoring value that counts less than 30\n",
    "# we can do that by creating new dataframe\n",
    "data_new = data.copy()\n",
    "for i, col in enumerate(col_head):\n",
    "    data_new = data_new[data_new[col].isin(filtered_col[i])]\n",
    "data_new"
   ]
  },
  {
   "cell_type": "markdown",
   "id": "e60ff311",
   "metadata": {},
   "source": [
    "Now, take a glance at our columns value."
   ]
  },
  {
   "cell_type": "code",
   "execution_count": 135,
   "id": "68ae6d4c",
   "metadata": {
    "ExecuteTime": {
     "end_time": "2022-05-25T10:31:51.222218Z",
     "start_time": "2022-05-25T10:31:51.206568Z"
    }
   },
   "outputs": [
    {
     "data": {
      "text/plain": [
       "[Index(['1', 'i', 'I', '2', 'd', '3', '4', 't'], dtype='object'),\n",
       " Index(['2', '4', '3', '5', 'P4', 'v4', '6', '74'], dtype='object'),\n",
       " Index(['3', '4', '5', '6', '7', '8', 'fo'], dtype='object'),\n",
       " Index(['8', '7', '4', '6', '5', 'fo', 'i'], dtype='object'),\n",
       " Index([], dtype='object')]"
      ]
     },
     "execution_count": 135,
     "metadata": {},
     "output_type": "execute_result"
    }
   ],
   "source": [
    "filtered_col"
   ]
  },
  {
   "cell_type": "markdown",
   "id": "96d7c365",
   "metadata": {},
   "source": [
    "As you can see, there's a lot of non-digit values and value that's nonsense ('74'). We will change those values to None, except from the 'first' column.\n",
    "\n",
    "In the 'first' column, We can safely assume that 'i', 'I', and 't' is actually '1'. This is because the '1' looks very small on the screen, so the program couldn't recognize it really well.\n",
    "\n",
    "So, in the first column, the only value that will be replaced by None is 'd'."
   ]
  },
  {
   "cell_type": "code",
   "execution_count": 136,
   "id": "2f33920d",
   "metadata": {
    "ExecuteTime": {
     "end_time": "2022-05-25T10:31:51.549761Z",
     "start_time": "2022-05-25T10:31:51.535730Z"
    }
   },
   "outputs": [],
   "source": [
    "data_new['first'] = data_new['first'].str.replace('(i)|(I)|(t)', '1', regex=True).replace('d', None)\n",
    "\n",
    "data_new['second'] = data_new['second'].replace(['P4', 'v4', '74'], None)\n",
    "data_new['third'] = data_new['third'].replace('fo', None)\n",
    "data_new['fourth'] = data_new['fourth'].replace(['fo', 'i'], None)\n",
    "\n",
    "data_new.reset_index(inplace=True, drop=True)\n",
    "\n",
    "# convert data to integer\n",
    "data_new = data_new.astype(int)"
   ]
  },
  {
   "cell_type": "code",
   "execution_count": 137,
   "id": "eb0434e8",
   "metadata": {
    "ExecuteTime": {
     "end_time": "2022-05-25T10:31:51.720921Z",
     "start_time": "2022-05-25T10:31:51.710924Z"
    }
   },
   "outputs": [
    {
     "data": {
      "text/html": [
       "<div>\n",
       "<style scoped>\n",
       "    .dataframe tbody tr th:only-of-type {\n",
       "        vertical-align: middle;\n",
       "    }\n",
       "\n",
       "    .dataframe tbody tr th {\n",
       "        vertical-align: top;\n",
       "    }\n",
       "\n",
       "    .dataframe thead th {\n",
       "        text-align: right;\n",
       "    }\n",
       "</style>\n",
       "<table border=\"1\" class=\"dataframe\">\n",
       "  <thead>\n",
       "    <tr style=\"text-align: right;\">\n",
       "      <th></th>\n",
       "      <th>first</th>\n",
       "      <th>second</th>\n",
       "      <th>third</th>\n",
       "      <th>fourth</th>\n",
       "    </tr>\n",
       "  </thead>\n",
       "  <tbody>\n",
       "    <tr>\n",
       "      <th>0</th>\n",
       "      <td>1</td>\n",
       "      <td>2</td>\n",
       "      <td>3</td>\n",
       "      <td>6</td>\n",
       "    </tr>\n",
       "    <tr>\n",
       "      <th>1</th>\n",
       "      <td>1</td>\n",
       "      <td>4</td>\n",
       "      <td>3</td>\n",
       "      <td>6</td>\n",
       "    </tr>\n",
       "    <tr>\n",
       "      <th>2</th>\n",
       "      <td>1</td>\n",
       "      <td>3</td>\n",
       "      <td>4</td>\n",
       "      <td>6</td>\n",
       "    </tr>\n",
       "    <tr>\n",
       "      <th>3</th>\n",
       "      <td>1</td>\n",
       "      <td>3</td>\n",
       "      <td>4</td>\n",
       "      <td>6</td>\n",
       "    </tr>\n",
       "    <tr>\n",
       "      <th>4</th>\n",
       "      <td>1</td>\n",
       "      <td>3</td>\n",
       "      <td>6</td>\n",
       "      <td>7</td>\n",
       "    </tr>\n",
       "    <tr>\n",
       "      <th>...</th>\n",
       "      <td>...</td>\n",
       "      <td>...</td>\n",
       "      <td>...</td>\n",
       "      <td>...</td>\n",
       "    </tr>\n",
       "    <tr>\n",
       "      <th>2028</th>\n",
       "      <td>1</td>\n",
       "      <td>4</td>\n",
       "      <td>5</td>\n",
       "      <td>8</td>\n",
       "    </tr>\n",
       "    <tr>\n",
       "      <th>2029</th>\n",
       "      <td>4</td>\n",
       "      <td>3</td>\n",
       "      <td>5</td>\n",
       "      <td>8</td>\n",
       "    </tr>\n",
       "    <tr>\n",
       "      <th>2030</th>\n",
       "      <td>1</td>\n",
       "      <td>3</td>\n",
       "      <td>5</td>\n",
       "      <td>8</td>\n",
       "    </tr>\n",
       "    <tr>\n",
       "      <th>2031</th>\n",
       "      <td>1</td>\n",
       "      <td>3</td>\n",
       "      <td>4</td>\n",
       "      <td>7</td>\n",
       "    </tr>\n",
       "    <tr>\n",
       "      <th>2032</th>\n",
       "      <td>1</td>\n",
       "      <td>2</td>\n",
       "      <td>3</td>\n",
       "      <td>7</td>\n",
       "    </tr>\n",
       "  </tbody>\n",
       "</table>\n",
       "<p>2033 rows × 4 columns</p>\n",
       "</div>"
      ],
      "text/plain": [
       "      first  second  third  fourth\n",
       "0         1       2      3       6\n",
       "1         1       4      3       6\n",
       "2         1       3      4       6\n",
       "3         1       3      4       6\n",
       "4         1       3      6       7\n",
       "...     ...     ...    ...     ...\n",
       "2028      1       4      5       8\n",
       "2029      4       3      5       8\n",
       "2030      1       3      5       8\n",
       "2031      1       3      4       7\n",
       "2032      1       2      3       7\n",
       "\n",
       "[2033 rows x 4 columns]"
      ]
     },
     "execution_count": 137,
     "metadata": {},
     "output_type": "execute_result"
    }
   ],
   "source": [
    "data_new[:5]"
   ]
  },
  {
   "cell_type": "markdown",
   "id": "e65ea536",
   "metadata": {},
   "source": [
    "## Exploratory Data Analysis"
   ]
  },
  {
   "cell_type": "code",
   "execution_count": 138,
   "id": "f07f6b60",
   "metadata": {
    "ExecuteTime": {
     "end_time": "2022-05-25T10:31:53.433625Z",
     "start_time": "2022-05-25T10:31:53.417637Z"
    }
   },
   "outputs": [
    {
     "data": {
      "text/html": [
       "<div>\n",
       "<style scoped>\n",
       "    .dataframe tbody tr th:only-of-type {\n",
       "        vertical-align: middle;\n",
       "    }\n",
       "\n",
       "    .dataframe tbody tr th {\n",
       "        vertical-align: top;\n",
       "    }\n",
       "\n",
       "    .dataframe thead th {\n",
       "        text-align: right;\n",
       "    }\n",
       "</style>\n",
       "<table border=\"1\" class=\"dataframe\">\n",
       "  <thead>\n",
       "    <tr style=\"text-align: right;\">\n",
       "      <th></th>\n",
       "      <th>first</th>\n",
       "      <th>second</th>\n",
       "      <th>third</th>\n",
       "      <th>fourth</th>\n",
       "      <th>avg</th>\n",
       "    </tr>\n",
       "  </thead>\n",
       "  <tbody>\n",
       "    <tr>\n",
       "      <th>0</th>\n",
       "      <td>1</td>\n",
       "      <td>2</td>\n",
       "      <td>3</td>\n",
       "      <td>6</td>\n",
       "      <td>3.00</td>\n",
       "    </tr>\n",
       "    <tr>\n",
       "      <th>1</th>\n",
       "      <td>1</td>\n",
       "      <td>4</td>\n",
       "      <td>3</td>\n",
       "      <td>6</td>\n",
       "      <td>3.50</td>\n",
       "    </tr>\n",
       "    <tr>\n",
       "      <th>2</th>\n",
       "      <td>1</td>\n",
       "      <td>3</td>\n",
       "      <td>4</td>\n",
       "      <td>6</td>\n",
       "      <td>3.50</td>\n",
       "    </tr>\n",
       "    <tr>\n",
       "      <th>3</th>\n",
       "      <td>1</td>\n",
       "      <td>3</td>\n",
       "      <td>4</td>\n",
       "      <td>6</td>\n",
       "      <td>3.50</td>\n",
       "    </tr>\n",
       "    <tr>\n",
       "      <th>4</th>\n",
       "      <td>1</td>\n",
       "      <td>3</td>\n",
       "      <td>6</td>\n",
       "      <td>7</td>\n",
       "      <td>4.25</td>\n",
       "    </tr>\n",
       "    <tr>\n",
       "      <th>...</th>\n",
       "      <td>...</td>\n",
       "      <td>...</td>\n",
       "      <td>...</td>\n",
       "      <td>...</td>\n",
       "      <td>...</td>\n",
       "    </tr>\n",
       "    <tr>\n",
       "      <th>2028</th>\n",
       "      <td>1</td>\n",
       "      <td>4</td>\n",
       "      <td>5</td>\n",
       "      <td>8</td>\n",
       "      <td>4.50</td>\n",
       "    </tr>\n",
       "    <tr>\n",
       "      <th>2029</th>\n",
       "      <td>4</td>\n",
       "      <td>3</td>\n",
       "      <td>5</td>\n",
       "      <td>8</td>\n",
       "      <td>5.00</td>\n",
       "    </tr>\n",
       "    <tr>\n",
       "      <th>2030</th>\n",
       "      <td>1</td>\n",
       "      <td>3</td>\n",
       "      <td>5</td>\n",
       "      <td>8</td>\n",
       "      <td>4.25</td>\n",
       "    </tr>\n",
       "    <tr>\n",
       "      <th>2031</th>\n",
       "      <td>1</td>\n",
       "      <td>3</td>\n",
       "      <td>4</td>\n",
       "      <td>7</td>\n",
       "      <td>3.75</td>\n",
       "    </tr>\n",
       "    <tr>\n",
       "      <th>2032</th>\n",
       "      <td>1</td>\n",
       "      <td>2</td>\n",
       "      <td>3</td>\n",
       "      <td>7</td>\n",
       "      <td>3.25</td>\n",
       "    </tr>\n",
       "  </tbody>\n",
       "</table>\n",
       "<p>2033 rows × 5 columns</p>\n",
       "</div>"
      ],
      "text/plain": [
       "      first  second  third  fourth   avg\n",
       "0         1       2      3       6  3.00\n",
       "1         1       4      3       6  3.50\n",
       "2         1       3      4       6  3.50\n",
       "3         1       3      4       6  3.50\n",
       "4         1       3      6       7  4.25\n",
       "...     ...     ...    ...     ...   ...\n",
       "2028      1       4      5       8  4.50\n",
       "2029      4       3      5       8  5.00\n",
       "2030      1       3      5       8  4.25\n",
       "2031      1       3      4       7  3.75\n",
       "2032      1       2      3       7  3.25\n",
       "\n",
       "[2033 rows x 5 columns]"
      ]
     },
     "execution_count": 138,
     "metadata": {},
     "output_type": "execute_result"
    }
   ],
   "source": [
    "# create new column: avg\n",
    "# which indicates average of position at a time\n",
    "data_new['avg'] = data_new.mean(numeric_only=True, axis=1)\n",
    "data_new[:5]"
   ]
  },
  {
   "cell_type": "code",
   "execution_count": 140,
   "id": "942a15e1",
   "metadata": {
    "ExecuteTime": {
     "end_time": "2022-05-25T10:40:02.193264Z",
     "start_time": "2022-05-25T10:40:02.168155Z"
    }
   },
   "outputs": [
    {
     "data": {
      "text/html": [
       "<div>\n",
       "<style scoped>\n",
       "    .dataframe tbody tr th:only-of-type {\n",
       "        vertical-align: middle;\n",
       "    }\n",
       "\n",
       "    .dataframe tbody tr th {\n",
       "        vertical-align: top;\n",
       "    }\n",
       "\n",
       "    .dataframe thead th {\n",
       "        text-align: right;\n",
       "    }\n",
       "</style>\n",
       "<table border=\"1\" class=\"dataframe\">\n",
       "  <thead>\n",
       "    <tr style=\"text-align: right;\">\n",
       "      <th></th>\n",
       "      <th>first</th>\n",
       "      <th>second</th>\n",
       "      <th>third</th>\n",
       "      <th>fourth</th>\n",
       "      <th>avg</th>\n",
       "    </tr>\n",
       "  </thead>\n",
       "  <tbody>\n",
       "    <tr>\n",
       "      <th>count</th>\n",
       "      <td>2033.000000</td>\n",
       "      <td>2033.000000</td>\n",
       "      <td>2033.000000</td>\n",
       "      <td>2033.000000</td>\n",
       "      <td>2033.000000</td>\n",
       "    </tr>\n",
       "    <tr>\n",
       "      <th>mean</th>\n",
       "      <td>1.223807</td>\n",
       "      <td>2.869651</td>\n",
       "      <td>4.206099</td>\n",
       "      <td>6.292671</td>\n",
       "      <td>3.648057</td>\n",
       "    </tr>\n",
       "    <tr>\n",
       "      <th>std</th>\n",
       "      <td>0.654770</td>\n",
       "      <td>1.014282</td>\n",
       "      <td>1.272948</td>\n",
       "      <td>1.454504</td>\n",
       "      <td>0.825829</td>\n",
       "    </tr>\n",
       "    <tr>\n",
       "      <th>min</th>\n",
       "      <td>1.000000</td>\n",
       "      <td>2.000000</td>\n",
       "      <td>3.000000</td>\n",
       "      <td>4.000000</td>\n",
       "      <td>2.500000</td>\n",
       "    </tr>\n",
       "    <tr>\n",
       "      <th>25%</th>\n",
       "      <td>1.000000</td>\n",
       "      <td>2.000000</td>\n",
       "      <td>3.000000</td>\n",
       "      <td>5.000000</td>\n",
       "      <td>3.000000</td>\n",
       "    </tr>\n",
       "    <tr>\n",
       "      <th>50%</th>\n",
       "      <td>1.000000</td>\n",
       "      <td>2.000000</td>\n",
       "      <td>4.000000</td>\n",
       "      <td>7.000000</td>\n",
       "      <td>3.500000</td>\n",
       "    </tr>\n",
       "    <tr>\n",
       "      <th>75%</th>\n",
       "      <td>1.000000</td>\n",
       "      <td>4.000000</td>\n",
       "      <td>5.000000</td>\n",
       "      <td>8.000000</td>\n",
       "      <td>4.250000</td>\n",
       "    </tr>\n",
       "    <tr>\n",
       "      <th>max</th>\n",
       "      <td>4.000000</td>\n",
       "      <td>6.000000</td>\n",
       "      <td>8.000000</td>\n",
       "      <td>8.000000</td>\n",
       "      <td>6.250000</td>\n",
       "    </tr>\n",
       "  </tbody>\n",
       "</table>\n",
       "</div>"
      ],
      "text/plain": [
       "             first       second        third       fourth          avg\n",
       "count  2033.000000  2033.000000  2033.000000  2033.000000  2033.000000\n",
       "mean      1.223807     2.869651     4.206099     6.292671     3.648057\n",
       "std       0.654770     1.014282     1.272948     1.454504     0.825829\n",
       "min       1.000000     2.000000     3.000000     4.000000     2.500000\n",
       "25%       1.000000     2.000000     3.000000     5.000000     3.000000\n",
       "50%       1.000000     2.000000     4.000000     7.000000     3.500000\n",
       "75%       1.000000     4.000000     5.000000     8.000000     4.250000\n",
       "max       4.000000     6.000000     8.000000     8.000000     6.250000"
      ]
     },
     "execution_count": 140,
     "metadata": {},
     "output_type": "execute_result"
    }
   ],
   "source": [
    "data_new.describe()"
   ]
  },
  {
   "cell_type": "code",
   "execution_count": 172,
   "id": "b535f541",
   "metadata": {
    "ExecuteTime": {
     "end_time": "2022-05-25T11:05:40.367466Z",
     "start_time": "2022-05-25T11:05:39.972379Z"
    }
   },
   "outputs": [
    {
     "data": {
      "image/png": "[encoded data removed]",
      "text/plain": [
       "<Figure size 864x432 with 1 Axes>"
      ]
     },
     "metadata": {},
     "output_type": "display_data"
    }
   ],
   "source": [
    "sns.set_style('darkgrid')\n",
    "plt.figure(figsize=(12, 6))\n",
    "\n",
    "sns.countplot(data=data_new, y='avg', palette=\"flare_r\")\n",
    "plt.title(\"Average team position at a time\")\n",
    "plt.ylabel(\"average\")\n",
    "plt.show()"
   ]
  },
  {
   "cell_type": "markdown",
   "id": "0a9832f6",
   "metadata": {},
   "source": [
    "In the following section, I will show countplot for each position (first, second, etc). Note that the 'first' position isn't necessarily the first player's actual position. This is due to the program could miss-recognize the first player's position.\n",
    "\n",
    "For example, if we have this position: 1, 2, 3, 4\n",
    "\n",
    "The program may not recognize the first place, so it will only record ['2', '3', '4', None, None]. Therefore, '2' isn't the first player's actual position."
   ]
  },
  {
   "cell_type": "code",
   "execution_count": 207,
   "id": "6ed8cca2",
   "metadata": {
    "ExecuteTime": {
     "end_time": "2022-05-25T11:15:06.269596Z",
     "start_time": "2022-05-25T11:15:05.709953Z"
    }
   },
   "outputs": [
    {
     "data": {
      "image/png": "[encoded data removed]",
      "text/plain": [
       "<Figure size 864x432 with 1 Axes>"
      ]
     },
     "metadata": {},
     "output_type": "display_data"
    }
   ],
   "source": [
    "plt.figure(figsize=(12, 6))\n",
    "\n",
    "bins = np.arange(1, 10) - 0.5\n",
    "sns.histplot(data=data_new.loc[:, 'first':'fourth'], bins=bins, shrink=0.8)\n",
    "\n",
    "plt.title(\"Average player's position at a time\")\n",
    "plt.ylabel(\"count\")\n",
    "plt.xlabel(\"position\")\n",
    "plt.legend()\n",
    "plt.show()"
   ]
  },
  {
   "cell_type": "code",
   "execution_count": null,
   "id": "abf4723e",
   "metadata": {},
   "outputs": [],
   "source": []
  }
 ],
 "metadata": {
  "kernelspec": {
   "display_name": "Python 3",
   "language": "python",
   "name": "python3"
  },
  "language_info": {
   "codemirror_mode": {
    "name": "ipython",
    "version": 3
   },
   "file_extension": ".py",
   "mimetype": "text/x-python",
   "name": "python",
   "nbconvert_exporter": "python",
   "pygments_lexer": "ipython3",
   "version": "3.8.8"
  },
  "toc": {
   "base_numbering": 1,
   "nav_menu": {},
   "number_sections": true,
   "sideBar": true,
   "skip_h1_title": false,
   "title_cell": "Table of Contents",
   "title_sidebar": "Contents",
   "toc_cell": false,
   "toc_position": {},
   "toc_section_display": true,
   "toc_window_display": false
  },
  "varInspector": {
   "cols": {
    "lenName": 16,
    "lenType": 16,
    "lenVar": 40
   },
   "kernels_config": {
    "python": {
     "delete_cmd_postfix": "",
     "delete_cmd_prefix": "del ",
     "library": "var_list.py",
     "varRefreshCmd": "print(var_dic_list())"
    },
    "r": {
     "delete_cmd_postfix": ") ",
     "delete_cmd_prefix": "rm(",
     "library": "var_list.r",
     "varRefreshCmd": "cat(var_dic_list()) "
    }
   },
   "types_to_exclude": [
    "module",
    "function",
    "builtin_function_or_method",
    "instance",
    "_Feature"
   ],
   "window_display": false
  }
 },
 "nbformat": 4,
 "nbformat_minor": 5
}
